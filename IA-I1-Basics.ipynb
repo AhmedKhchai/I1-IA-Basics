{
 "cells": [
  {
   "cell_type": "code",
   "execution_count": 24,
   "metadata": {},
   "outputs": [
    {
     "name": "stdout",
     "output_type": "stream",
     "text": [
      "[(0.9999999999999056, 'Film Policier 1'), (0.9999546021169687, 'Film Romantique 1'), (0.9999542657995758, 'Film Policier 2')]\n"
     ]
    }
   ],
   "source": [
    "import numpy as np\n",
    "\n",
    "# Faire un systeme de recommandation de film:\n",
    "\n",
    "# Créer quelques utilisateurs type\n",
    "# Créer une fonction permettant d'obtenir le top K film pour un utilisateur donné\n",
    "# Afficher la liste\n",
    "\n",
    "\n",
    "def softmax_stable(x):\n",
    "    return np.exp(x - np.max(x)) / np.exp(x - np.max(x)).sum()\n",
    "\n",
    "\n",
    "# Créer un tableau représentant les gouts de l'utilisateur\n",
    "# 1ere Action\n",
    "# 2eme Romantique\n",
    "# 3eme Drame\n",
    "# 4eme Policier\n",
    "# 5eme Documentaire\n",
    "userTaste = softmax_stable(np.array([10, 2, 3, 40, 5]))  # Gouts Utilisateur\n",
    "\n",
    "# Créer une liste de film:\n",
    "filmDataset = [\n",
    "    (np.array([1, 2, 1, 40, 1]), \"Film Policier 1\"),\n",
    "    (np.array([10, 2, 2, 20, 5]), \"Film Policier 2\"),\n",
    "    (np.array([20, 5, 1, 30, 0]), \"Film Romantique 1\"),\n",
    "    (np.array([20, 1, 40, 10, 20]), \"Film Drame 1\"),\n",
    "    (np.array([30, 3, 1, 20, 50]), \"Film Documentaire 1\"),\n",
    "    (np.array([15, 5, 30, 16, 40]), \"Film Documentaire 2\"),\n",
    "]\n",
    "\n",
    "results = []\n",
    "\n",
    "for film in filmDataset:\n",
    "    results.append((userTaste.dot(softmax_stable(film[0])), film[1]))\n",
    "\n",
    "# Afficher la liste des films triés par ordre de pertinence\n",
    "sorted_results = sorted(results, key=lambda x: x[0], reverse=True)\n",
    "\n",
    "# Afficher les 3 premiers\n",
    "print(sorted_results[:3])\n",
    "\n",
    "\n"
   ]
  }
 ],
 "metadata": {
  "kernelspec": {
   "display_name": "ML2",
   "language": "python",
   "name": "python3"
  },
  "language_info": {
   "codemirror_mode": {
    "name": "ipython",
    "version": 3
   },
   "file_extension": ".py",
   "mimetype": "text/x-python",
   "name": "python",
   "nbconvert_exporter": "python",
   "pygments_lexer": "ipython3",
   "version": "3.10.10"
  },
  "orig_nbformat": 4
 },
 "nbformat": 4,
 "nbformat_minor": 2
}
