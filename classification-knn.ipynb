{
 "cells": [
  {
   "cell_type": "code",
   "execution_count": 22,
   "metadata": {},
   "outputs": [
    {
     "name": "stdout",
     "output_type": "stream",
     "text": [
      "orange\n"
     ]
    }
   ],
   "source": [
    "import numpy as np\n",
    "\n",
    "# Créer un dataset aléatoire de 15 vecteurs (blue)\n",
    "blue = np.random.random((15, 5))\n",
    "# Créer un second dataset aléatoire de 15 vecteurs (orange)\n",
    "orange = np.random.random((15, 5))\n",
    "\n",
    "dataset = np.concatenate((blue, orange))\n",
    "\n",
    "newSample = np.random.random((5))\n",
    "\n",
    "\n",
    "def manhattanDist(a, b):\n",
    "    return np.absolute(a - b).sum()\n",
    "\n",
    "\n",
    "# Créer une fonction 'applyKNN' qui prend en parametre le dataset complet, le nouveau sample à classifier, le nombre de plus proche voisin (k)\n",
    "\n",
    "# Algorithme du KNN\n",
    "# 1) calculer les distances entre le nouveau sample et tous les points du dataset\n",
    "# 2) Stocker les distances (et leur groupe d'appartenance) dans un tableau\n",
    "# 3) Trier le tableau par ordre croissant\n",
    "# 4) Extraire de ce tableau les 'k' premiers éléments.\n",
    "def applyKNN(dataset, newSample, k):\n",
    "    distances = []\n",
    "    for point in dataset:\n",
    "        distances.append((manhattanDist(point, newSample), \"blue\" if point in blue else \"orange\"))\n",
    "\n",
    "    sorted_distances = sorted(distances, key=lambda x: x[0])\n",
    "\n",
    "    blueCount = 0\n",
    "    orangeCount = 0\n",
    "    for i in range(k):\n",
    "        if sorted_distances[i][1] == \"blue\":\n",
    "            blueCount += 1\n",
    "        else:\n",
    "            orangeCount += 1\n",
    "\n",
    "    return \"blue\" if blueCount > orangeCount else \"orange\"\n",
    "\n",
    "\n",
    "\n",
    "# La fonction s'utilise comme suit:\n",
    "group = applyKNN(dataset,newSample,5)\n",
    "print(group) # affiche blue ou orange"
   ]
  }
 ],
 "metadata": {
  "kernelspec": {
   "display_name": "ML2",
   "language": "python",
   "name": "python3"
  },
  "language_info": {
   "codemirror_mode": {
    "name": "ipython",
    "version": 3
   },
   "file_extension": ".py",
   "mimetype": "text/x-python",
   "name": "python",
   "nbconvert_exporter": "python",
   "pygments_lexer": "ipython3",
   "version": "3.10.10"
  },
  "orig_nbformat": 4
 },
 "nbformat": 4,
 "nbformat_minor": 2
}
