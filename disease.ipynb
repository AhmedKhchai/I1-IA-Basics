{
 "cells": [
  {
   "cell_type": "code",
   "execution_count": 23,
   "metadata": {},
   "outputs": [
    {
     "name": "stdout",
     "output_type": "stream",
     "text": [
      "     age  sex  cp  trestbps  chol  fbs  restecg  thalach  exang  oldpeak  \\\n",
      "1     37    1   2       130   250    0        1      187      0      3.5   \n",
      "115   37    0   2       120   215    0        1      170      0      0.0   \n",
      "\n",
      "     slope  ca  thal  target  \n",
      "1        0   0     2       1  \n",
      "115      2   0     2       1  \n"
     ]
    }
   ],
   "source": [
    "import pandas as pd\n",
    "\n",
    "patients = pd.read_csv('disease.csv')\n",
    "# Afficher les 10 première lignes du DataFrame.\n",
    "patients.head(10)\n",
    "# Afficher les informations des patients ayant 37 ans. Sont-ils tous sains ?\n",
    "print(patients[patients['age'] == 37])"
   ]
  },
  {
   "cell_type": "code",
   "execution_count": 24,
   "metadata": {},
   "outputs": [
    {
     "name": "stdout",
     "output_type": "stream",
     "text": [
      "     age  sex  cp  trestbps  chol  fbs  restecg  thalach  exang  oldpeak  \\\n",
      "238   77    1   0       125   304    0        0      162      1      0.0   \n",
      "\n",
      "     slope  ca  thal  target  \n",
      "238      2   3     2       0  \n"
     ]
    }
   ],
   "source": [
    "# Afficher les informations concernant le patient le plus âgé. Est-il malade ?\n",
    "print(patients[patients['age'] == patients['age'].max()])"
   ]
  },
  {
   "cell_type": "code",
   "execution_count": 25,
   "metadata": {},
   "outputs": [
    {
     "name": "stdout",
     "output_type": "stream",
     "text": [
      "target    0   1\n",
      "sex            \n",
      "0        24  72\n",
      "1       114  93\n"
     ]
    }
   ],
   "source": [
    "# Comparer les proportions de malades et non malades entre les patients de sexe masculin (0) et féminin (1)\n",
    "print(patients.groupby(['sex', 'target']).size().unstack())"
   ]
  },
  {
   "cell_type": "code",
   "execution_count": 26,
   "metadata": {},
   "outputs": [
    {
     "name": "stdout",
     "output_type": "stream",
     "text": [
      "target\n",
      "0    56.601449\n",
      "1    52.496970\n",
      "Name: age, dtype: float64\n"
     ]
    }
   ],
   "source": [
    "# Comparer la moyenne d’âge entre les individus sains et les individus malades\n",
    "print(patients.groupby('target')['age'].mean())"
   ]
  },
  {
   "cell_type": "code",
   "execution_count": 31,
   "metadata": {},
   "outputs": [],
   "source": [
    "# Repérer les valeurs aberrantes (c-à-d celles en dehors de l’intervalle [50,250]) de la colonne talach et les remplacer s’il y en a, par une valeur plausible.\n",
    "patients.loc[(patients['thalach'] < 50) | (patients['thalach'] > 250), 'thalach'] = patients['thalach'].median()\n"
   ]
  },
  {
   "cell_type": "code",
   "execution_count": 32,
   "metadata": {},
   "outputs": [
    {
     "data": {
      "text/plain": [
       "age         0\n",
       "sex         0\n",
       "cp          0\n",
       "trestbps    0\n",
       "chol        0\n",
       "fbs         0\n",
       "restecg     0\n",
       "thalach     0\n",
       "exang       0\n",
       "oldpeak     0\n",
       "slope       0\n",
       "ca          0\n",
       "thal        0\n",
       "target      0\n",
       "dtype: int64"
      ]
     },
     "execution_count": 32,
     "metadata": {},
     "output_type": "execute_result"
    }
   ],
   "source": [
    "# Afficher le nombre de valeurs manquantes (s’il y en a)  pour chaque colonne du DataFrame.\n",
    "patients.isnull().sum()\n"
   ]
  },
  {
   "cell_type": "code",
   "execution_count": 38,
   "metadata": {},
   "outputs": [
    {
     "name": "stdout",
     "output_type": "stream",
     "text": [
      "     age  sex  cp  trestbps  chol  fbs  restecg  thalach  exang  oldpeak  \\\n",
      "0     63    1   3       145   233    1        0      150      0      2.3   \n",
      "1     37    1   2       130   250    0        1      187      0      3.5   \n",
      "2     41    0   1       130   204    0        0      172      0      1.4   \n",
      "3     56    1   1       120   236    0        1      178      0      0.8   \n",
      "4     57    0   0       120   354    0        1      163      1      0.6   \n",
      "..   ...  ...  ..       ...   ...  ...      ...      ...    ...      ...   \n",
      "298   57    0   0       140   241    0        1      123      1      0.2   \n",
      "299   45    1   3       110   264    0        1      132      0      1.2   \n",
      "300   68    1   0       144   193    1        1      141      0      3.4   \n",
      "301   57    1   0       130   131    0        1      115      1      1.2   \n",
      "302   57    0   1       130   236    0        0      174      0      0.0   \n",
      "\n",
      "     slope  ca  thal  \n",
      "0        0   0     1  \n",
      "1        0   0     2  \n",
      "2        2   0     2  \n",
      "3        2   0     2  \n",
      "4        2   0     2  \n",
      "..     ...  ..   ...  \n",
      "298      1   0     3  \n",
      "299      1   0     3  \n",
      "300      1   2     3  \n",
      "301      1   1     3  \n",
      "302      1   1     2  \n",
      "\n",
      "[303 rows x 13 columns]\n"
     ]
    }
   ],
   "source": [
    "# Supprimer les lignes du DataFrame qui ne sont pas labélisées (s’il y en a). Autrement dit, les lignes pour lesquelles la valeur de la colonne target est absente.\n",
    "print(patients.drop('target', axis=1))"
   ]
  },
  {
   "cell_type": "code",
   "execution_count": 39,
   "metadata": {},
   "outputs": [],
   "source": [
    "# Remplacer les valeurs manquantes des colonnes ‘ca’ et ‘exang’ par leurs modes respectifs.\n",
    "patients['ca'] = patients['ca'].fillna(patients['ca'].mode()[0])\n",
    "patients['exang'] = patients['exang'].fillna(patients['exang'].mode()[0])"
   ]
  },
  {
   "cell_type": "code",
   "execution_count": 40,
   "metadata": {},
   "outputs": [],
   "source": [
    "# Remplacer les valeurs manquantes des autres colonnes par leurs médianes respectives\n",
    "patients = patients.fillna(patients.median())"
   ]
  },
  {
   "cell_type": "code",
   "execution_count": 42,
   "metadata": {},
   "outputs": [],
   "source": [
    "# Séparer les variables explicatives dans un DataFrame X et la variable cible dans Y\n",
    "x = patients.drop('target', axis=1)\n",
    "y = patients['target']"
   ]
  },
  {
   "cell_type": "code",
   "execution_count": 45,
   "metadata": {},
   "outputs": [
    {
     "name": "stdout",
     "output_type": "stream",
     "text": [
      "          age  sex        cp  trestbps      chol  fbs  restecg   thalach  \\\n",
      "0    0.416667  1.0  1.000000 -0.037736 -0.511416  1.0     -1.0  0.206107   \n",
      "1   -0.666667  1.0  0.333333 -0.320755 -0.433790 -1.0      0.0  0.770992   \n",
      "2   -0.500000 -1.0 -0.333333 -0.320755 -0.643836 -1.0     -1.0  0.541985   \n",
      "3    0.125000  1.0 -0.333333 -0.509434 -0.497717 -1.0      0.0  0.633588   \n",
      "4    0.166667 -1.0 -1.000000 -0.509434  0.041096 -1.0      0.0  0.404580   \n",
      "..        ...  ...       ...       ...       ...  ...      ...       ...   \n",
      "298  0.166667 -1.0 -1.000000 -0.132075 -0.474886 -1.0      0.0 -0.206107   \n",
      "299 -0.333333  1.0  1.000000 -0.698113 -0.369863 -1.0      0.0 -0.068702   \n",
      "300  0.625000  1.0 -1.000000 -0.056604 -0.694064  1.0      0.0  0.068702   \n",
      "301  0.166667  1.0 -1.000000 -0.320755 -0.977169 -1.0      0.0 -0.328244   \n",
      "302  0.166667 -1.0 -0.333333 -0.320755 -0.497717 -1.0     -1.0  0.572519   \n",
      "\n",
      "     exang   oldpeak  slope   ca      thal  \n",
      "0     -1.0 -0.258065   -1.0 -1.0 -0.333333  \n",
      "1     -1.0  0.129032   -1.0 -1.0  0.333333  \n",
      "2     -1.0 -0.548387    1.0 -1.0  0.333333  \n",
      "3     -1.0 -0.741935    1.0 -1.0  0.333333  \n",
      "4      1.0 -0.806452    1.0 -1.0  0.333333  \n",
      "..     ...       ...    ...  ...       ...  \n",
      "298    1.0 -0.935484    0.0 -1.0  1.000000  \n",
      "299   -1.0 -0.612903    0.0 -1.0  1.000000  \n",
      "300   -1.0  0.096774    0.0  0.0  1.000000  \n",
      "301    1.0 -0.612903    0.0 -0.5  1.000000  \n",
      "302   -1.0 -1.000000    0.0 -0.5  0.333333  \n",
      "\n",
      "[303 rows x 13 columns]\n"
     ]
    }
   ],
   "source": [
    "# Appliquer la normalisation de type Min-Max légèrement modifiée\n",
    "X_norm = x.apply(lambda x: 2 * (x - x.min()) / (x.max() - x.min()) - 1)\n",
    "print(X_norm)"
   ]
  },
  {
   "cell_type": "code",
   "execution_count": 46,
   "metadata": {},
   "outputs": [
    {
     "data": {
      "text/html": [
       "<style>#sk-container-id-1 {color: black;background-color: white;}#sk-container-id-1 pre{padding: 0;}#sk-container-id-1 div.sk-toggleable {background-color: white;}#sk-container-id-1 label.sk-toggleable__label {cursor: pointer;display: block;width: 100%;margin-bottom: 0;padding: 0.3em;box-sizing: border-box;text-align: center;}#sk-container-id-1 label.sk-toggleable__label-arrow:before {content: \"▸\";float: left;margin-right: 0.25em;color: #696969;}#sk-container-id-1 label.sk-toggleable__label-arrow:hover:before {color: black;}#sk-container-id-1 div.sk-estimator:hover label.sk-toggleable__label-arrow:before {color: black;}#sk-container-id-1 div.sk-toggleable__content {max-height: 0;max-width: 0;overflow: hidden;text-align: left;background-color: #f0f8ff;}#sk-container-id-1 div.sk-toggleable__content pre {margin: 0.2em;color: black;border-radius: 0.25em;background-color: #f0f8ff;}#sk-container-id-1 input.sk-toggleable__control:checked~div.sk-toggleable__content {max-height: 200px;max-width: 100%;overflow: auto;}#sk-container-id-1 input.sk-toggleable__control:checked~label.sk-toggleable__label-arrow:before {content: \"▾\";}#sk-container-id-1 div.sk-estimator input.sk-toggleable__control:checked~label.sk-toggleable__label {background-color: #d4ebff;}#sk-container-id-1 div.sk-label input.sk-toggleable__control:checked~label.sk-toggleable__label {background-color: #d4ebff;}#sk-container-id-1 input.sk-hidden--visually {border: 0;clip: rect(1px 1px 1px 1px);clip: rect(1px, 1px, 1px, 1px);height: 1px;margin: -1px;overflow: hidden;padding: 0;position: absolute;width: 1px;}#sk-container-id-1 div.sk-estimator {font-family: monospace;background-color: #f0f8ff;border: 1px dotted black;border-radius: 0.25em;box-sizing: border-box;margin-bottom: 0.5em;}#sk-container-id-1 div.sk-estimator:hover {background-color: #d4ebff;}#sk-container-id-1 div.sk-parallel-item::after {content: \"\";width: 100%;border-bottom: 1px solid gray;flex-grow: 1;}#sk-container-id-1 div.sk-label:hover label.sk-toggleable__label {background-color: #d4ebff;}#sk-container-id-1 div.sk-serial::before {content: \"\";position: absolute;border-left: 1px solid gray;box-sizing: border-box;top: 0;bottom: 0;left: 50%;z-index: 0;}#sk-container-id-1 div.sk-serial {display: flex;flex-direction: column;align-items: center;background-color: white;padding-right: 0.2em;padding-left: 0.2em;position: relative;}#sk-container-id-1 div.sk-item {position: relative;z-index: 1;}#sk-container-id-1 div.sk-parallel {display: flex;align-items: stretch;justify-content: center;background-color: white;position: relative;}#sk-container-id-1 div.sk-item::before, #sk-container-id-1 div.sk-parallel-item::before {content: \"\";position: absolute;border-left: 1px solid gray;box-sizing: border-box;top: 0;bottom: 0;left: 50%;z-index: -1;}#sk-container-id-1 div.sk-parallel-item {display: flex;flex-direction: column;z-index: 1;position: relative;background-color: white;}#sk-container-id-1 div.sk-parallel-item:first-child::after {align-self: flex-end;width: 50%;}#sk-container-id-1 div.sk-parallel-item:last-child::after {align-self: flex-start;width: 50%;}#sk-container-id-1 div.sk-parallel-item:only-child::after {width: 0;}#sk-container-id-1 div.sk-dashed-wrapped {border: 1px dashed gray;margin: 0 0.4em 0.5em 0.4em;box-sizing: border-box;padding-bottom: 0.4em;background-color: white;}#sk-container-id-1 div.sk-label label {font-family: monospace;font-weight: bold;display: inline-block;line-height: 1.2em;}#sk-container-id-1 div.sk-label-container {text-align: center;}#sk-container-id-1 div.sk-container {/* jupyter's `normalize.less` sets `[hidden] { display: none; }` but bootstrap.min.css set `[hidden] { display: none !important; }` so we also need the `!important` here to be able to override the default hidden behavior on the sphinx rendered scikit-learn.org. See: https://github.com/scikit-learn/scikit-learn/issues/21755 */display: inline-block !important;position: relative;}#sk-container-id-1 div.sk-text-repr-fallback {display: none;}</style><div id=\"sk-container-id-1\" class=\"sk-top-container\"><div class=\"sk-text-repr-fallback\"><pre>LogisticRegression()</pre><b>In a Jupyter environment, please rerun this cell to show the HTML representation or trust the notebook. <br />On GitHub, the HTML representation is unable to render, please try loading this page with nbviewer.org.</b></div><div class=\"sk-container\" hidden><div class=\"sk-item\"><div class=\"sk-estimator sk-toggleable\"><input class=\"sk-toggleable__control sk-hidden--visually\" id=\"sk-estimator-id-1\" type=\"checkbox\" checked><label for=\"sk-estimator-id-1\" class=\"sk-toggleable__label sk-toggleable__label-arrow\">LogisticRegression</label><div class=\"sk-toggleable__content\"><pre>LogisticRegression()</pre></div></div></div></div></div>"
      ],
      "text/plain": [
       "LogisticRegression()"
      ]
     },
     "execution_count": 46,
     "metadata": {},
     "output_type": "execute_result"
    }
   ],
   "source": [
    "# Entrainer un modèle de classification de votre choix sur l’ensemble d’entrainement (X_Train, Y_train)\n",
    "from sklearn.linear_model import LogisticRegression\n",
    "from sklearn.model_selection import train_test_split\n",
    "# Diviser le jeu de données (X_norm,y) en un ensemble d’entrainement et un ensemble de test\n",
    "X_train, X_test, y_train, y_test = train_test_split(X_norm, y, test_size=0.3, random_state=42)\n",
    "\n",
    "model = LogisticRegression()\n",
    "model.fit(X_train, y_train)"
   ]
  },
  {
   "cell_type": "code",
   "execution_count": 47,
   "metadata": {},
   "outputs": [
    {
     "name": "stdout",
     "output_type": "stream",
     "text": [
      "Accuracy:  0.8021978021978022\n",
      "Confusion Matrix: \n",
      " [[33  8]\n",
      " [10 40]]\n",
      "Nombre de patients malades non détectés:  10\n"
     ]
    }
   ],
   "source": [
    "\n",
    "from sklearn.metrics import accuracy_score, confusion_matrix\n",
    "# Afficher le taux de bonnes prédictions du modèle sur l’échantillon de test, ainsi que la matrice de confusion\n",
    "y_pred = model.predict(X_test)\n",
    "accuracy = accuracy_score(y_test, y_pred)\n",
    "conf_matrix = confusion_matrix(y_test, y_pred)\n",
    "print(\"Accuracy: \", accuracy)\n",
    "print(\"Confusion Matrix: \\n\", conf_matrix)\n",
    "\n",
    "# Sur l’échantillon de test, combien de patients malades n’ont pas été détectés par le modèle ?\n",
    "false_negatives = conf_matrix[1][0]\n",
    "print(\"Nombre de patients malades non détectés: \", false_negatives)"
   ]
  }
 ],
 "metadata": {
  "kernelspec": {
   "display_name": "ML2",
   "language": "python",
   "name": "python3"
  },
  "language_info": {
   "codemirror_mode": {
    "name": "ipython",
    "version": 3
   },
   "file_extension": ".py",
   "mimetype": "text/x-python",
   "name": "python",
   "nbconvert_exporter": "python",
   "pygments_lexer": "ipython3",
   "version": "3.10.10"
  },
  "orig_nbformat": 4
 },
 "nbformat": 4,
 "nbformat_minor": 2
}
