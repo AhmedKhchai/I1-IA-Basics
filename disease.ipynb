{
 "cells": [
  {
   "cell_type": "code",
   "execution_count": 23,
   "metadata": {},
   "outputs": [
    {
     "name": "stdout",
     "output_type": "stream",
     "text": [
      "     age  sex  cp  trestbps  chol  fbs  restecg  thalach  exang  oldpeak  \\\n",
      "1     37    1   2       130   250    0        1      187      0      3.5   \n",
      "115   37    0   2       120   215    0        1      170      0      0.0   \n",
      "\n",
      "     slope  ca  thal  target  \n",
      "1        0   0     2       1  \n",
      "115      2   0     2       1  \n"
     ]
    }
   ],
   "source": [
    "import pandas as pd\n",
    "\n",
    "patients = pd.read_csv('disease.csv')\n",
    "# Afficher les 10 première lignes du DataFrame.\n",
    "patients.head(10)\n",
    "# Afficher les informations des patients ayant 37 ans. Sont-ils tous sains ?\n",
    "print(patients[patients['age'] == 37])"
   ]
  },
  {
   "cell_type": "code",
   "execution_count": 24,
   "metadata": {},
   "outputs": [
    {
     "name": "stdout",
     "output_type": "stream",
     "text": [
      "     age  sex  cp  trestbps  chol  fbs  restecg  thalach  exang  oldpeak  \\\n",
      "238   77    1   0       125   304    0        0      162      1      0.0   \n",
      "\n",
      "     slope  ca  thal  target  \n",
      "238      2   3     2       0  \n"
     ]
    }
   ],
   "source": [
    "# Afficher les informations concernant le patient le plus âgé. Est-il malade ?\n",
    "print(patients[patients['age'] == patients['age'].max()])"
   ]
  },
  {
   "cell_type": "code",
   "execution_count": 25,
   "metadata": {},
   "outputs": [
    {
     "name": "stdout",
     "output_type": "stream",
     "text": [
      "target    0   1\n",
      "sex            \n",
      "0        24  72\n",
      "1       114  93\n"
     ]
    }
   ],
   "source": [
    "# Comparer les proportions de malades et non malades entre les patients de sexe masculin (0) et féminin (1)\n",
    "print(patients.groupby(['sex', 'target']).size().unstack())"
   ]
  },
  {
   "cell_type": "code",
   "execution_count": 26,
   "metadata": {},
   "outputs": [
    {
     "name": "stdout",
     "output_type": "stream",
     "text": [
      "target\n",
      "0    56.601449\n",
      "1    52.496970\n",
      "Name: age, dtype: float64\n"
     ]
    }
   ],
   "source": [
    "# Comparer la moyenne d’âge entre les individus sains et les individus malades\n",
    "print(patients.groupby('target')['age'].mean())"
   ]
  },
  {
   "cell_type": "code",
   "execution_count": 31,
   "metadata": {},
   "outputs": [],
   "source": [
    "# Repérer les valeurs aberrantes (c-à-d celles en dehors de l’intervalle [50,250]) de la colonne talach et les remplacer s’il y en a, par une valeur plausible.\n",
    "patients.loc[(patients['thalach'] < 50) | (patients['thalach'] > 250), 'thalach'] = patients['thalach'].median()\n"
   ]
  },
  {
   "cell_type": "code",
   "execution_count": 32,
   "metadata": {},
   "outputs": [
    {
     "data": {
      "text/plain": [
       "age         0\n",
       "sex         0\n",
       "cp          0\n",
       "trestbps    0\n",
       "chol        0\n",
       "fbs         0\n",
       "restecg     0\n",
       "thalach     0\n",
       "exang       0\n",
       "oldpeak     0\n",
       "slope       0\n",
       "ca          0\n",
       "thal        0\n",
       "target      0\n",
       "dtype: int64"
      ]
     },
     "execution_count": 32,
     "metadata": {},
     "output_type": "execute_result"
    }
   ],
   "source": [
    "# Afficher le nombre de valeurs manquantes (s’il y en a)  pour chaque colonne du DataFrame.\n",
    "patients.isnull().sum()\n"
   ]
  },
  {
   "cell_type": "code",
   "execution_count": 38,
   "metadata": {},
   "outputs": [
    {
     "name": "stdout",
     "output_type": "stream",
     "text": [
      "     age  sex  cp  trestbps  chol  fbs  restecg  thalach  exang  oldpeak  \\\n",
      "0     63    1   3       145   233    1        0      150      0      2.3   \n",
      "1     37    1   2       130   250    0        1      187      0      3.5   \n",
      "2     41    0   1       130   204    0        0      172      0      1.4   \n",
      "3     56    1   1       120   236    0        1      178      0      0.8   \n",
      "4     57    0   0       120   354    0        1      163      1      0.6   \n",
      "..   ...  ...  ..       ...   ...  ...      ...      ...    ...      ...   \n",
      "298   57    0   0       140   241    0        1      123      1      0.2   \n",
      "299   45    1   3       110   264    0        1      132      0      1.2   \n",
      "300   68    1   0       144   193    1        1      141      0      3.4   \n",
      "301   57    1   0       130   131    0        1      115      1      1.2   \n",
      "302   57    0   1       130   236    0        0      174      0      0.0   \n",
      "\n",
      "     slope  ca  thal  \n",
      "0        0   0     1  \n",
      "1        0   0     2  \n",
      "2        2   0     2  \n",
      "3        2   0     2  \n",
      "4        2   0     2  \n",
      "..     ...  ..   ...  \n",
      "298      1   0     3  \n",
      "299      1   0     3  \n",
      "300      1   2     3  \n",
      "301      1   1     3  \n",
      "302      1   1     2  \n",
      "\n",
      "[303 rows x 13 columns]\n"
     ]
    }
   ],
   "source": [
    "# Supprimer les lignes du DataFrame qui ne sont pas labélisées (s’il y en a). Autrement dit, les lignes pour lesquelles la valeur de la colonne target est absente.\n",
    "print(patients.drop('target', axis=1))"
   ]
  },
  {
   "cell_type": "code",
   "execution_count": 39,
   "metadata": {},
   "outputs": [],
   "source": [
    "# Remplacer les valeurs manquantes des colonnes ‘ca’ et ‘exang’ par leurs modes respectifs.\n",
    "patients['ca'] = patients['ca'].fillna(patients['ca'].mode()[0])\n",
    "patients['exang'] = patients['exang'].fillna(patients['exang'].mode()[0])"
   ]
  },
  {
   "cell_type": "code",
   "execution_count": 40,
   "metadata": {},
   "outputs": [],
   "source": [
    "# Remplacer les valeurs manquantes des autres colonnes par leurs médianes respectives\n",
    "patients = patients.fillna(patients.median())"
   ]
  }
 ],
 "metadata": {
  "kernelspec": {
   "display_name": "ML2",
   "language": "python",
   "name": "python3"
  },
  "language_info": {
   "codemirror_mode": {
    "name": "ipython",
    "version": 3
   },
   "file_extension": ".py",
   "mimetype": "text/x-python",
   "name": "python",
   "nbconvert_exporter": "python",
   "pygments_lexer": "ipython3",
   "version": "3.10.10"
  },
  "orig_nbformat": 4
 },
 "nbformat": 4,
 "nbformat_minor": 2
}
