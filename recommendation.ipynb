{
 "cells": [
  {
   "cell_type": "code",
   "execution_count": 19,
   "metadata": {},
   "outputs": [
    {
     "name": "stdout",
     "output_type": "stream",
     "text": [
      "[(0.4046096751916371, 'Film Documentaire 2'), (0.40460958863580443, 'Film Policier 2'), (0.4045980641340586, 'Film Romantique 1'), (0.14884758172924614, 'Film Policier 1'), (0.1488475812021052, 'Film Documentaire 1'), (0.14884758120210512, 'Film Drame 1')]\n"
     ]
    }
   ],
   "source": [
    "import numpy as np\n",
    "\n",
    "# Faire un systeme de recommandation de film:\n",
    "\n",
    "# Créer quelques utilisateurs type\n",
    "# Créer une fonction permettant d'obtenir le top K film pour un utilisateur donné\n",
    "# Afficher la liste\n",
    "\n",
    "\n",
    "def softmax_stable(x):\n",
    "    return np.exp(x - np.max(x)) / np.exp(x - np.max(x)).sum()\n",
    "\n",
    "\n",
    "# Créer un tableau représentant les gouts de l'utilisateur\n",
    "# 1ere Action\n",
    "# 2eme Romantique\n",
    "# 3eme Drame\n",
    "# 4eme Policier\n",
    "# 5eme Documentaire\n",
    "userTaste = softmax_stable(np.array([10, 2, 3, 40, 5]))  # Gouts Utilisateur\n",
    "\n",
    "# Créer une liste de film:\n",
    "filmDataset = [\n",
    "    (np.array([1, 2, 40, 20, 1]), \"Film Policier 1\"),\n",
    "    (np.array([0, 2, 2, 20, 5]), \"Film Policier 2\"),\n",
    "    (np.array([20, 5, 1, 30, 0]), \"Film Romantique 1\"),\n",
    "    (np.array([20, 1, 40, 10, 20]), \"Film Drame 1\"),\n",
    "    (np.array([30, 3, 1, 20, 50]), \"Film Documentaire 1\"),\n",
    "    (np.array([10, 2, 3, 40, 5]), \"Film Documentaire 2\"),\n",
    "]\n",
    "\n",
    "results = []\n",
    "\n",
    "maxedUserTaste = softmax_stable(userTaste)\n",
    "\n",
    "for film in filmDataset:\n",
    "    softedFilm = softmax_stable(film[0])\n",
    "    kotFilm = np.dot(softedFilm, maxedUserTaste)\n",
    "    results.append((kotFilm, film[1]))\n",
    "\n",
    "# Afficher la liste des films triés par ordre de pertinence\n",
    "sorted_results = sorted(results, key=lambda x: x[0], reverse=True)\n",
    "\n",
    "# Afficher les 3 premiers\n",
    "print(sorted_results)\n",
    "\n",
    "\n"
   ]
  },
  {
   "cell_type": "code",
   "execution_count": 21,
   "metadata": {},
   "outputs": [
    {
     "name": "stdout",
     "output_type": "stream",
     "text": [
      "[[0.38758128 0.98096621 0.39559009 0.04365559 0.53647848]\n",
      " [0.22470617 0.49618682 0.42483405 0.00100123 0.57062094]\n",
      " [0.24476579 0.47600278 0.17709252 0.06555377 0.77442024]\n",
      " [0.78852482 0.66609754 0.62580208 0.15363782 0.37082947]\n",
      " [0.16076081 0.3883116  0.31039925 0.09490316 0.59526582]\n",
      " [0.50738697 0.3576538  0.03744637 0.17780495 0.70760881]\n",
      " [0.98213461 0.23113588 0.75124262 0.06061143 0.24422026]\n",
      " [0.72935881 0.88901732 0.73008453 0.67868881 0.91364592]\n",
      " [0.62896009 0.20354021 0.33214247 0.61789318 0.69512841]\n",
      " [0.16930757 0.54566456 0.82813639 0.18914027 0.9106055 ]\n",
      " [0.36291134 0.03670983 0.0564752  0.59724219 0.29831395]\n",
      " [0.3436509  0.97431442 0.00502373 0.50480335 0.05202182]\n",
      " [0.85425205 0.59487451 0.92931238 0.75641997 0.25556263]\n",
      " [0.53817833 0.77733038 0.07159315 0.84670872 0.86850954]\n",
      " [0.00186931 0.75723307 0.66414741 0.92252146 0.96221646]]\n"
     ]
    }
   ],
   "source": [
    "# Créer un dataset aléatoire de 15 vecteurs (blue)\n",
    "blue = np.random.random((15, 5))\n",
    "# Créer un second dataset aléatoire de 15 vecteurs (orange)\n",
    "orange = np.random.random((15, 5))\n",
    "\n",
    "newSample = np.random.random((5))\n",
    "\n",
    "\n",
    "def manhattanDist(a, b):\n",
    "    return np.absolute(a - b).sum()\n",
    "\n",
    "\n",
    "# Créer une fonction 'applyKNN' qui prend en parametre le dataset complet, le nouveau sample à classifier, le nombre de plus proche voisin (k)\n",
    "\n",
    "# Algorithme du KNN\n",
    "# 1) calculer les distances entre le nouveau sample et tous les points du dataset\n",
    "# 2) Stocker les distances (et leur groupe d'appartenance) dans un tableau\n",
    "# 3) Trier le tableau par ordre croissant\n",
    "# 4) Extraire de ce tableau les 'k' premiers éléments.\n",
    "def applyKNN(newSample, k):\n",
    "    distancesToBlue = []\n",
    "    distancesToOrange = []\n",
    "    for set in blue:\n",
    "        distancesToBlue.append(manhattanDist(set, newSample))\n",
    "    for set in orange:\n",
    "        distancesToOrange.append(manhattanDist(set, newSample))\n",
    "\n",
    "\n",
    "# La fonction s'utilise comme suit:\n",
    "# group = applyKNN(dataset,newSample,5)\n",
    "# print(group) -> affiche blue ou orange"
   ]
  }
 ],
 "metadata": {
  "kernelspec": {
   "display_name": "ML2",
   "language": "python",
   "name": "python3"
  },
  "language_info": {
   "codemirror_mode": {
    "name": "ipython",
    "version": 3
   },
   "file_extension": ".py",
   "mimetype": "text/x-python",
   "name": "python",
   "nbconvert_exporter": "python",
   "pygments_lexer": "ipython3",
   "version": "3.10.10"
  },
  "orig_nbformat": 4
 },
 "nbformat": 4,
 "nbformat_minor": 2
}
