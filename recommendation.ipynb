{
 "cells": [
  {
   "cell_type": "code",
   "execution_count": 19,
   "metadata": {},
   "outputs": [
    {
     "name": "stdout",
     "output_type": "stream",
     "text": [
      "[(0.4046096751916371, 'Film Documentaire 2'), (0.40460958863580443, 'Film Policier 2'), (0.4045980641340586, 'Film Romantique 1'), (0.14884758172924614, 'Film Policier 1'), (0.1488475812021052, 'Film Documentaire 1'), (0.14884758120210512, 'Film Drame 1')]\n"
     ]
    }
   ],
   "source": [
    "import numpy as np\n",
    "\n",
    "# Faire un systeme de recommandation de film:\n",
    "\n",
    "# Créer quelques utilisateurs type\n",
    "# Créer une fonction permettant d'obtenir le top K film pour un utilisateur donné\n",
    "# Afficher la liste\n",
    "\n",
    "\n",
    "def softmax_stable(x):\n",
    "    return np.exp(x - np.max(x)) / np.exp(x - np.max(x)).sum()\n",
    "\n",
    "\n",
    "# Créer un tableau représentant les gouts de l'utilisateur\n",
    "# 1ere Action\n",
    "# 2eme Romantique\n",
    "# 3eme Drame\n",
    "# 4eme Policier\n",
    "# 5eme Documentaire\n",
    "userTaste = softmax_stable(np.array([10, 2, 3, 40, 5]))  # Gouts Utilisateur\n",
    "\n",
    "# Créer une liste de film:\n",
    "filmDataset = [\n",
    "    (np.array([1, 2, 40, 20, 1]), \"Film Policier 1\"),\n",
    "    (np.array([0, 2, 2, 20, 5]), \"Film Policier 2\"),\n",
    "    (np.array([20, 5, 1, 30, 0]), \"Film Romantique 1\"),\n",
    "    (np.array([20, 1, 40, 10, 20]), \"Film Drame 1\"),\n",
    "    (np.array([30, 3, 1, 20, 50]), \"Film Documentaire 1\"),\n",
    "    (np.array([10, 2, 3, 40, 5]), \"Film Documentaire 2\"),\n",
    "]\n",
    "\n",
    "results = []\n",
    "\n",
    "maxedUserTaste = softmax_stable(userTaste)\n",
    "\n",
    "for film in filmDataset:\n",
    "    softedFilm = softmax_stable(film[0])\n",
    "    kotFilm = np.dot(softedFilm, maxedUserTaste)\n",
    "    results.append((kotFilm, film[1]))\n",
    "\n",
    "# Afficher la liste des films triés par ordre de pertinence\n",
    "sorted_results = sorted(results, key=lambda x: x[0], reverse=True)\n",
    "\n",
    "# Afficher les 3 premiers\n",
    "print(sorted_results)\n",
    "\n",
    "\n"
   ]
  },
  {
   "cell_type": "code",
   "execution_count": 22,
   "metadata": {},
   "outputs": [
    {
     "name": "stdout",
     "output_type": "stream",
     "text": [
      "orange\n"
     ]
    }
   ],
   "source": [
    "# Créer un dataset aléatoire de 15 vecteurs (blue)\n",
    "blue = np.random.random((15, 5))\n",
    "# Créer un second dataset aléatoire de 15 vecteurs (orange)\n",
    "orange = np.random.random((15, 5))\n",
    "\n",
    "dataset = np.concatenate((blue, orange))\n",
    "\n",
    "newSample = np.random.random((5))\n",
    "\n",
    "\n",
    "def manhattanDist(a, b):\n",
    "    return np.absolute(a - b).sum()\n",
    "\n",
    "\n",
    "# Créer une fonction 'applyKNN' qui prend en parametre le dataset complet, le nouveau sample à classifier, le nombre de plus proche voisin (k)\n",
    "\n",
    "# Algorithme du KNN\n",
    "# 1) calculer les distances entre le nouveau sample et tous les points du dataset\n",
    "# 2) Stocker les distances (et leur groupe d'appartenance) dans un tableau\n",
    "# 3) Trier le tableau par ordre croissant\n",
    "# 4) Extraire de ce tableau les 'k' premiers éléments.\n",
    "def applyKNN(dataset, newSample, k):\n",
    "    distances = []\n",
    "    for point in dataset:\n",
    "        distances.append((manhattanDist(point, newSample), \"blue\" if point in blue else \"orange\"))\n",
    "\n",
    "    sorted_distances = sorted(distances, key=lambda x: x[0])\n",
    "\n",
    "    blueCount = 0\n",
    "    orangeCount = 0\n",
    "    for i in range(k):\n",
    "        if sorted_distances[i][1] == \"blue\":\n",
    "            blueCount += 1\n",
    "        else:\n",
    "            orangeCount += 1\n",
    "\n",
    "    return \"blue\" if blueCount > orangeCount else \"orange\"\n",
    "\n",
    "\n",
    "\n",
    "# La fonction s'utilise comme suit:\n",
    "group = applyKNN(dataset,newSample,5)\n",
    "print(group) # affiche blue ou orange"
   ]
  }
 ],
 "metadata": {
  "kernelspec": {
   "display_name": "ML2",
   "language": "python",
   "name": "python3"
  },
  "language_info": {
   "codemirror_mode": {
    "name": "ipython",
    "version": 3
   },
   "file_extension": ".py",
   "mimetype": "text/x-python",
   "name": "python",
   "nbconvert_exporter": "python",
   "pygments_lexer": "ipython3",
   "version": "3.10.10"
  },
  "orig_nbformat": 4
 },
 "nbformat": 4,
 "nbformat_minor": 2
}
