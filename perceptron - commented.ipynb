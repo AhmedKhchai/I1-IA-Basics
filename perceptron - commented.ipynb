{
 "cells": [
  {
   "cell_type": "code",
   "execution_count": 1,
   "metadata": {},
   "outputs": [],
   "source": [
    "import random\n",
    "\n",
    "# classe du perceptron\n",
    "class Perceptron:\n",
    "    def __init__(self, nbInputs, actName=\"segmoid\"):\n",
    "        min_value = -1.0\n",
    "        max_value = 1.0\n",
    "        self.nbInputs = nbInputs\n",
    "        self.weights = []\n",
    "        self.inputs = []\n",
    "        self.act = 0\n",
    "        self.err = 0\n",
    "        for i in range(0, nbInputs):\n",
    "            self.weights.append(random.uniform(min_value, max_value))  # initier les poids avec des valeurs aléatoires\n",
    "\n",
    "    def predict(self, inputs):\n",
    "        sop = 0\n",
    "        self.inputs = inputs\n",
    "        for i in range(0, self.nbInputs):  # calculer la somme pondérée des entrées\n",
    "            sop += inputs[i] * self.weights[i]\n",
    "        self.act = self.activation(sop)  # utiliser la fonction d'activation\n",
    "        return self.act\n",
    "\n",
    "    def activation(self, x):  # définir la fonction d'activation (ici une fonction seuil)\n",
    "        if x >= 0:\n",
    "            return 1\n",
    "        else:\n",
    "            return 0\n",
    "\n",
    "    def calculErr(self, expected):  # calculer l'erreur\n",
    "        self.err = expected - self.act\n",
    "        return self.err\n",
    "\n",
    "    def updateWeights(self, lr):  # mettre à jour les poids\n",
    "        for i in range(0, self.nbInputs):\n",
    "            self.weights[i] += (self.err * lr) * self.inputs[i]\n",
    "\n",
    "    def trainUnit(self, example, expected, lr, verbose=False):  # entraîner le perceptron sur un seul exemple\n",
    "        pred = self.predict(example)\n",
    "        err = self.calculErr(expected)\n",
    "        self.updateWeights(lr=lr)\n",
    "        if verbose:  # afficher des informations de débogage si nécessaire\n",
    "            print(\n",
    "                f\"\\n exemple: {example} attendu: {expected} prédiction: {pred} erreur: {err} poids: {self.weights}\"\n",
    "            )\n",
    "        return err\n",
    "\n",
    "    def train(self, dataset, epoch, lr=0.1, verbose=False):  # entraîner le perceptron sur un ensemble de données\n",
    "        errors = []\n",
    "        for i in range(0, epoch):\n",
    "            currentEpochError = 0\n",
    "            for data in dataset:  # boucler sur chaque exemple dans l'ensemble de données\n",
    "                currentError = abs(\n",
    "                    self.trainUnit(data[0], data[1][0], lr=lr, verbose=verbose)\n",
    "                )\n",
    "                currentEpochError += currentError\n",
    "        avg = currentEpochError / len(dataset)\n",
    "        errors.append(avg)\n",
    "\n",
    "        return errors\n"
   ]
  },
  {
   "cell_type": "code",
   "execution_count": 2,
   "metadata": {},
   "outputs": [
    {
     "name": "stdout",
     "output_type": "stream",
     "text": [
      "After Training\n",
      "[-1.032024998660649, 0.6594923356153053, 0.3772683342550266]\n",
      "[0.0]\n"
     ]
    }
   ],
   "source": [
    "perceptron = Perceptron(3)  # création d'un perceptron avec 3 entrées\n",
    "dataset = [  # création de l'ensemble de données pour l'entraînement\n",
    "    ([21, 10, 5], [0]),\n",
    "    ([25, 20, 15], [0]),\n",
    "    ([20, 2, 9], [0]),\n",
    "    ([30, 10, 16], [0]),\n",
    "    ([1, 24, 10], [1]),\n",
    "    ([10, 60, 20], [1]),\n",
    "    ([19, 80, 30], [1]),\n",
    "    ([20, 90, 10], [1]),\n",
    "]\n",
    "# perceptron.train(dataset, epoch=2, lr=0.1, verbose=True)  # entraînement du perceptron, cette ligne est commentée\n",
    "errors = perceptron.train(dataset, epoch=30, lr=0.01, verbose=False)  # entraînement du perceptron avec 30 époques et un taux d'apprentissage de 0.01, sans affichage des détails\n",
    "print(\"After Training\")  # affichage du message après l'entraînement\n",
    "print(perceptron.weights)  # affichage des poids du perceptron après l'entraînement\n",
    "print(errors)  # affichage des erreurs rencontrées pendant l'entraînement\n"
   ]
  },
  {
   "cell_type": "code",
   "execution_count": 3,
   "metadata": {},
   "outputs": [],
   "source": [
    "def minmax_normalization(vector):  \n",
    "    if len(vector) == 0:  # vérifier si le vecteur est vide\n",
    "        return \"le vecteur est vide\"  # si le vecteur est vide, retourner un message d'erreur\n",
    "    min_value = min(vector)  # trouver la valeur minimale du vecteur\n",
    "    max_value = max(vector)  # trouver la valeur maximale du vecteur\n",
    "    # normaliser tous les éléments du vecteur en utilisant la normalisation min-max\n",
    "    normalized_vector = [(x - min_value) / (max_value - min_value) for x in vector]  \n",
    "    return normalized_vector  # retourner le vecteur normalisé\n"
   ]
  },
  {
   "cell_type": "code",
   "execution_count": 4,
   "metadata": {},
   "outputs": [
    {
     "name": "stdout",
     "output_type": "stream",
     "text": [
      "[([1.0, 0.3125, 0.0], [0]), ([1.0, 0.5, 0.0], [0]), ([1.0, 0.0, 0.3888888888888889], [0]), ([1.0, 0.0, 0.3], [0]), ([0.0, 1.0, 0.391304347826087], [1]), ([0.0, 1.0, 0.2], [1]), ([0.0, 1.0, 0.18032786885245902], [1]), ([0.125, 1.0, 0.0], [1])]\n"
     ]
    }
   ],
   "source": [
    "dataset = [  # création de l'ensemble de données pour l'entraînement\n",
    "    ([21, 10, 5], [0]),\n",
    "    ([25, 20, 15], [0]),\n",
    "    ([20, 2, 9], [0]),\n",
    "    ([30, 10, 16], [0]),\n",
    "    ([1, 24, 10], [1]),\n",
    "    ([10, 60, 20], [1]),\n",
    "    ([19, 80, 30], [1]),\n",
    "    ([20, 90, 10], [1]),\n",
    "]\n",
    "for i in range(0, len(dataset)):  # pour chaque exemple dans l'ensemble de données\n",
    "    # normalisez les attributs de l'exemple en utilisant la normalisation min-max\n",
    "    dataset[i] = (minmax_normalization(dataset[i][0]), dataset[i][1]) \n",
    "print(dataset)  # affiche l'ensemble de données normalisé\n"
   ]
  },
  {
   "cell_type": "code",
   "execution_count": 5,
   "metadata": {},
   "outputs": [
    {
     "name": "stdout",
     "output_type": "stream",
     "text": [
      "\n",
      " exemple: [1.0, 0.3125, 0.0] attendu: 0 prédiction: 0 erreur: 0 poids: [-1.032024998660649, 0.6594923356153053, 0.3772683342550266]\n",
      "\n",
      " exemple: [1.0, 0.5, 0.0] attendu: 0 prédiction: 0 erreur: 0 poids: [-1.032024998660649, 0.6594923356153053, 0.3772683342550266]\n",
      "\n",
      " exemple: [1.0, 0.0, 0.3888888888888889] attendu: 0 prédiction: 0 erreur: 0 poids: [-1.032024998660649, 0.6594923356153053, 0.3772683342550266]\n",
      "\n",
      " exemple: [1.0, 0.0, 0.3] attendu: 0 prédiction: 0 erreur: 0 poids: [-1.032024998660649, 0.6594923356153053, 0.3772683342550266]\n",
      "\n",
      " exemple: [0.0, 1.0, 0.391304347826087] attendu: 1 prédiction: 1 erreur: 0 poids: [-1.032024998660649, 0.6594923356153053, 0.3772683342550266]\n",
      "\n",
      " exemple: [0.0, 1.0, 0.2] attendu: 1 prédiction: 1 erreur: 0 poids: [-1.032024998660649, 0.6594923356153053, 0.3772683342550266]\n",
      "\n",
      " exemple: [0.0, 1.0, 0.18032786885245902] attendu: 1 prédiction: 1 erreur: 0 poids: [-1.032024998660649, 0.6594923356153053, 0.3772683342550266]\n",
      "\n",
      " exemple: [0.125, 1.0, 0.0] attendu: 1 prédiction: 1 erreur: 0 poids: [-1.032024998660649, 0.6594923356153053, 0.3772683342550266]\n",
      "\n",
      " exemple: [1.0, 0.3125, 0.0] attendu: 0 prédiction: 0 erreur: 0 poids: [-1.032024998660649, 0.6594923356153053, 0.3772683342550266]\n",
      "\n",
      " exemple: [1.0, 0.5, 0.0] attendu: 0 prédiction: 0 erreur: 0 poids: [-1.032024998660649, 0.6594923356153053, 0.3772683342550266]\n",
      "\n",
      " exemple: [1.0, 0.0, 0.3888888888888889] attendu: 0 prédiction: 0 erreur: 0 poids: [-1.032024998660649, 0.6594923356153053, 0.3772683342550266]\n",
      "\n",
      " exemple: [1.0, 0.0, 0.3] attendu: 0 prédiction: 0 erreur: 0 poids: [-1.032024998660649, 0.6594923356153053, 0.3772683342550266]\n",
      "\n",
      " exemple: [0.0, 1.0, 0.391304347826087] attendu: 1 prédiction: 1 erreur: 0 poids: [-1.032024998660649, 0.6594923356153053, 0.3772683342550266]\n",
      "\n",
      " exemple: [0.0, 1.0, 0.2] attendu: 1 prédiction: 1 erreur: 0 poids: [-1.032024998660649, 0.6594923356153053, 0.3772683342550266]\n",
      "\n",
      " exemple: [0.0, 1.0, 0.18032786885245902] attendu: 1 prédiction: 1 erreur: 0 poids: [-1.032024998660649, 0.6594923356153053, 0.3772683342550266]\n",
      "\n",
      " exemple: [0.125, 1.0, 0.0] attendu: 1 prédiction: 1 erreur: 0 poids: [-1.032024998660649, 0.6594923356153053, 0.3772683342550266]\n"
     ]
    },
    {
     "data": {
      "text/plain": [
       "[0.0]"
      ]
     },
     "execution_count": 5,
     "metadata": {},
     "output_type": "execute_result"
    }
   ],
   "source": [
    "perceptron.train(dataset, epoch=2, lr=0.01, verbose=True)"
   ]
  },
  {
   "cell_type": "code",
   "execution_count": 6,
   "metadata": {},
   "outputs": [
    {
     "name": "stdout",
     "output_type": "stream",
     "text": [
      "prediction: 0 - expected: 0\n",
      "prediction: 0 - expected: 0\n",
      "prediction: 0 - expected: 0\n",
      "prediction: 0 - expected: 0\n",
      "prediction: 1 - expected: 1\n",
      "prediction: 1 - expected: 1\n",
      "prediction: 1 - expected: 1\n",
      "prediction: 1 - expected: 1\n"
     ]
    }
   ],
   "source": [
    "for data in dataset:  # pour chaque exemple dans l'ensemble de données\n",
    "    pred = perceptron.predict(data[0])  # prédire la sortie en utilisant le perceptron\n",
    "    expected = data[1][0]  # obtenir la sortie attendue\n",
    "    # afficher la prédiction et la sortie attendue\n",
    "    print(f\"prédiction: {pred} - attendu: {expected}\")\n"
   ]
  }
 ],
 "metadata": {
  "kernelspec": {
   "display_name": "ML2",
   "language": "python",
   "name": "python3"
  },
  "language_info": {
   "codemirror_mode": {
    "name": "ipython",
    "version": 3
   },
   "file_extension": ".py",
   "mimetype": "text/x-python",
   "name": "python",
   "nbconvert_exporter": "python",
   "pygments_lexer": "ipython3",
   "version": "3.10.10"
  },
  "orig_nbformat": 4
 },
 "nbformat": 4,
 "nbformat_minor": 2
}
