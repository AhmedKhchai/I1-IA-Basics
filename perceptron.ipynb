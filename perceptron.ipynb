{
 "cells": [
  {
   "cell_type": "code",
   "execution_count": 61,
   "metadata": {},
   "outputs": [
    {
     "name": "stdout",
     "output_type": "stream",
     "text": [
      "weights at start of epoch [-0.7171862268358076, 0.9769632816742311, -0.1709058940453263]\n",
      "prediction 0\n",
      "err 0\n",
      "weights after update (at the end of the epochj) [-0.7171862268358076, 0.9769632816742311, -0.1709058940453263]\n"
     ]
    }
   ],
   "source": [
    "import random\n",
    "\n",
    "\n",
    "# class perception\n",
    "class Perceptron:\n",
    "    def __init__(self, nbInputs):\n",
    "        min_value = -1.0\n",
    "        max_value = 1.0\n",
    "        self.nbInputs = nbInputs\n",
    "        self.weights = []\n",
    "        self.inputs = []\n",
    "        self.act = 0\n",
    "        self.err = 0\n",
    "        for i in range(0, nbInputs):\n",
    "            self.weights.append(random.uniform(min_value, max_value))\n",
    "\n",
    "    def predict(self, inputs):\n",
    "        sop = 0\n",
    "        self.inputs = inputs\n",
    "        for i in range(0, self.nbInputs):\n",
    "            sop += inputs[i] * self.weights[i]\n",
    "        self.act = self.activation(sop)\n",
    "        return self.act\n",
    "\n",
    "    def activation(self, x):\n",
    "        return max(0, x)\n",
    "\n",
    "    def calculErr(self, expected):\n",
    "        self.err = self.act - expected\n",
    "        return self.err\n",
    "\n",
    "    def updateWeights(self):\n",
    "        for i in range(0, self.nbInputs):\n",
    "            self.weights[i] += self.err * self.inputs[i]\n",
    "\n",
    "\n",
    "perceptron = Perceptron(3)\n",
    "print('weights at start of epoch',perceptron.weights)\n",
    "dataset = [\n",
    "    ([21, 10, 5], [0]),\n",
    "    ([25, 20, 15], [0]),\n",
    "    ([20, 2, 9], [0]),\n",
    "    ([30, 10, 16], [0]),\n",
    "    ([1, 24, 10], [1]),\n",
    "    ([10, 60, 20], [1]),\n",
    "    ([19, 80, 30], [1]),\n",
    "    ([20, 90, 10], [1]),\n",
    "]\n",
    "ex1 = dataset[0][0]\n",
    "output = perceptron.predict(ex1)\n",
    "print('prediction', output)\n",
    "perceptron.calculErr(dataset[0][1][0])\n",
    "print('err', perceptron.err)\n",
    "perceptron.updateWeights()\n",
    "print('weights after update (at the end of the epoch)', perceptron.weights)"
   ]
  }
 ],
 "metadata": {
  "kernelspec": {
   "display_name": "ML2",
   "language": "python",
   "name": "python3"
  },
  "language_info": {
   "codemirror_mode": {
    "name": "ipython",
    "version": 3
   },
   "file_extension": ".py",
   "mimetype": "text/x-python",
   "name": "python",
   "nbconvert_exporter": "python",
   "pygments_lexer": "ipython3",
   "version": "3.10.10"
  },
  "orig_nbformat": 4
 },
 "nbformat": 4,
 "nbformat_minor": 2
}
