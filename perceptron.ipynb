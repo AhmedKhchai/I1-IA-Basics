{
 "cells": [
  {
   "cell_type": "code",
   "execution_count": 3,
   "metadata": {},
   "outputs": [],
   "source": [
    "import random\n",
    "\n",
    "\n",
    "# class perception\n",
    "class Perceptron:\n",
    "    def __init__(self, nbInputs):\n",
    "        min_value = -1.0\n",
    "        max_value = 1.0\n",
    "        self.nbInputs = nbInputs\n",
    "        self.weights = []\n",
    "        self.inputs = []\n",
    "        self.act = 0\n",
    "        self.err = 0\n",
    "        for i in range(0, nbInputs):\n",
    "            self.weights.append(random.uniform(min_value, max_value))\n",
    "\n",
    "    def predict(self, inputs):\n",
    "        sop = 0\n",
    "        self.inputs = inputs\n",
    "        for i in range(0, self.nbInputs):\n",
    "            sop += inputs[i] * self.weights[i]\n",
    "        self.act = self.activation(sop)\n",
    "        return self.act\n",
    "\n",
    "    def activation(self, x):\n",
    "        return max(0, x)\n",
    "\n",
    "    def calculErr(self, expected):\n",
    "        self.err = self.act - expected\n",
    "        return self.err\n",
    "\n",
    "    def updateWeights(self, lr):\n",
    "        for i in range(0, self.nbInputs):\n",
    "            self.weights[i] += (self.err * lr) * self.inputs[i]\n",
    "\n",
    "    def trainUnit(self, example, expected, lr, verbose=False):\n",
    "        pred = self.predict(example)\n",
    "        err = self.calculErr(expected)\n",
    "        self.updateWeights(lr=lr)\n",
    "        if verbose:\n",
    "            print(\n",
    "                f\"\\n example: {example} expected: {expected} prediction: {pred} error: {err} weights: {self.weights}\"\n",
    "            )\n",
    "\n",
    "    def train(self, dataset, epoch, lr=0.1, verbose=False):\n",
    "        for i in range(0, epoch):\n",
    "            for data in dataset:\n",
    "                self.trainUnit(data[0], data[1][0], lr=lr, verbose=verbose)\n",
    "\n",
    "\n",
    "# perceptron = Perceptron(3)\n",
    "# dataset = [\n",
    "#     ([21, 10, 5], [0]),\n",
    "#     ([25, 20, 15], [0]),\n",
    "#     ([20, 2, 9], [0]),\n",
    "#     ([30, 10, 16], [0]),\n",
    "#     ([1, 24, 10], [1]),\n",
    "#     ([10, 60, 20], [1]),\n",
    "#     ([19, 80, 30], [1]),\n",
    "#     ([20, 90, 10], [1]),\n",
    "# ]\n",
    "# perceptron.train(dataset, epoch=2, lr=0.1, verbose=True)\n",
    "# perceptron.trainUnit(ex1, dataset[0][1][0], verbose=True)\n",
    "# print('weights at start of epoch',perceptron.weights)\n",
    "# ex1 = dataset[0][0]\n",
    "# output = perceptron.predict(ex1)\n",
    "# print('prediction', output)\n",
    "# perceptron.calculErr(dataset[0][1][0])\n",
    "# print('err', perceptron.err)\n",
    "# perceptron.updateWeights()\n",
    "# print('weights after update (at the end of the epoch)', perceptron.weights)"
   ]
  },
  {
   "cell_type": "code",
   "execution_count": 10,
   "metadata": {},
   "outputs": [
    {
     "name": "stdout",
     "output_type": "stream",
     "text": [
      "\n",
      " example: [21, 10, 5] expected: 0 prediction: 5.034398021157474 error: 5.034398021157474 weights: [10.770103556918277, 4.826207936175935, 3.109414392325471]\n",
      "\n",
      " example: [25, 20, 15] expected: 0 prediction: 412.4179635313577 error: 412.4179635313577 weights: [1041.8150123853127, 829.6621349988915, 621.7363596893621]\n",
      "\n",
      " example: [20, 2, 9] expected: 0 prediction: 28091.251754908295 error: 28091.251754908295 weights: [57224.31852220191, 6447.9124859805515, 25903.86293910683]\n",
      "\n",
      " example: [30, 10, 16] expected: 0 prediction: 2195670.4875515723 error: 2195670.4875515723 weights: [6644235.781176919, 2202118.4000375527, 3538976.6430216227]\n",
      "\n",
      " example: [1, 24, 10] expected: 1 prediction: 94884843.8122944 error: 94884842.8122944 weights: [16132720.06240636, 229925741.14954412, 98423819.45531602]\n",
      "\n",
      " example: [10, 60, 20] expected: 1 prediction: 15925348058.70303 error: 15925348057.70303 weights: [15941480777.765436, 95782014087.36774, 31949119934.861374]\n",
      "\n",
      " example: [19, 80, 30] expected: 1 prediction: 8923922859812.803 error: 8923922859811.803 weights: [16971394914420.191, 71487164892581.8, 26803717699370.273]\n",
      "\n",
      " example: [20, 90, 10] expected: 1 prediction: 7041309915614469.0 error: 7041309915614468.0 weights: [1.4099591226143358e+16, 6.34432764054228e+16, 7068113633313839.0]\n",
      "\n",
      " example: [21, 10, 5] expected: 0 prediction: 9.658647479698076e+17 error: 9.658647479698076e+17 weights: [2.0424155619627395e+18, 1.0293080243752305e+18, 4.9000048761821766e+17]\n",
      "\n",
      " example: [25, 20, 15] expected: 0 prediction: 7.899655685084637e+19 error: 7.899655685084637e+19 weights: [1.9953380768907867e+20, 1.5902242172606795e+20, 1.1898483576388777e+20]\n",
      "\n",
      " example: [20, 2, 9] expected: 0 prediction: 5.379584519108699e+21 error: 5.379584519108699e+21 weights: [1.0958702845906477e+22, 1.2349393255478078e+21, 4.960610902961718e+21]\n",
      "\n",
      " example: [30, 10, 16] expected: 0 prediction: 4.204802530800599e+23 error: 4.204802530800599e+23 weights: [1.272399462086086e+24, 4.217151924056077e+23, 6.777290158310575e+23]\n",
      "\n",
      " example: [1, 24, 10] expected: 1 prediction: 1.8170854238131247e+25 error: 1.8170854238131247e+25 weights: [3.089484885899211e+24, 4.403176536392061e+25, 1.8848583253962303e+25]\n",
      "\n",
      " example: [10, 60, 20] expected: 1 prediction: 3.0497724357734744e+27 error: 3.0497724357734744e+27 weights: [3.0528619206593737e+27, 1.8342666380004766e+28, 6.118393454800911e+27]\n",
      "\n",
      " example: [19, 80, 30] expected: 1 prediction: 1.708969490536937e+30 error: 1.708969490536937e+30 weights: [3.2500948939408396e+30, 1.36900985906755e+31, 5.133026865065612e+30]\n",
      "\n",
      " example: [20, 90, 10] expected: 1 prediction: 1.348441039690268e+33 error: 1.348441039690268e+33 weights: [2.700132174274477e+33, 1.2149659455803088e+34, 1.3535740665553337e+33]\n"
     ]
    }
   ],
   "source": [
    "perceptron = Perceptron(3)\n",
    "dataset = [\n",
    "    ([21, 10, 5], [0]),\n",
    "    ([25, 20, 15], [0]),\n",
    "    ([20, 2, 9], [0]),\n",
    "    ([30, 10, 16], [0]),\n",
    "    ([1, 24, 10], [1]),\n",
    "    ([10, 60, 20], [1]),\n",
    "    ([19, 80, 30], [1]),\n",
    "    ([20, 90, 10], [1]),\n",
    "]\n",
    "perceptron.train(dataset, epoch=2, lr=0.1, verbose=True)"
   ]
  },
  {
   "cell_type": "code",
   "execution_count": 11,
   "metadata": {},
   "outputs": [],
   "source": [
    "def minmax_normalization(vector):\n",
    "    if len(vector) == 0:\n",
    "        return \"vector is empty\"\n",
    "    min_value = min(vector)\n",
    "    max_value = max(vector)\n",
    "    normalized_vector = [(x - min_value) / (max_value - min_value) for x in vector]\n",
    "    return normalized_vector"
   ]
  },
  {
   "cell_type": "code",
   "execution_count": 16,
   "metadata": {},
   "outputs": [
    {
     "name": "stdout",
     "output_type": "stream",
     "text": [
      "[([1.0, 0.3125, 0.0], [0]), ([1.0, 0.5, 0.0], [0]), ([1.0, 0.0, 0.3888888888888889], [0]), ([1.0, 0.0, 0.3], [0]), ([0.0, 1.0, 0.391304347826087], [1]), ([0.0, 1.0, 0.2], [1]), ([0.0, 1.0, 0.18032786885245902], [1]), ([0.125, 1.0, 0.0], [1])]\n"
     ]
    }
   ],
   "source": [
    "dataset = [\n",
    "    ([21, 10, 5], [0]),\n",
    "    ([25, 20, 15], [0]),\n",
    "    ([20, 2, 9], [0]),\n",
    "    ([30, 10, 16], [0]),\n",
    "    ([1, 24, 10], [1]),\n",
    "    ([10, 60, 20], [1]),\n",
    "    ([19, 80, 30], [1]),\n",
    "    ([20, 90, 10], [1]),\n",
    "]\n",
    "for i in range(0, len(dataset)):\n",
    "    dataset[i] = (minmax_normalization(dataset[i][0]), dataset[i][1])\n",
    "print(dataset)"
   ]
  }
 ],
 "metadata": {
  "kernelspec": {
   "display_name": "ML2",
   "language": "python",
   "name": "python3"
  },
  "language_info": {
   "codemirror_mode": {
    "name": "ipython",
    "version": 3
   },
   "file_extension": ".py",
   "mimetype": "text/x-python",
   "name": "python",
   "nbconvert_exporter": "python",
   "pygments_lexer": "ipython3",
   "version": "3.10.10"
  },
  "orig_nbformat": 4
 },
 "nbformat": 4,
 "nbformat_minor": 2
}
