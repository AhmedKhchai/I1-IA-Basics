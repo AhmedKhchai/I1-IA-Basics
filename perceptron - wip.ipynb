{
 "cells": [
  {
   "cell_type": "code",
   "execution_count": 161,
   "metadata": {},
   "outputs": [],
   "source": [
    "import random\n",
    "\n",
    "# class perception\n",
    "class Perceptron:\n",
    "    def __init__(self, nbInputs, actName=\"segmoid\"):\n",
    "        min_value = -1.0\n",
    "        max_value = 1.0\n",
    "        self.nbInputs = nbInputs\n",
    "        self.weights = []\n",
    "        self.inputs = []\n",
    "        self.act = 0\n",
    "        self.err = 0\n",
    "        for i in range(0, nbInputs):\n",
    "            self.weights.append(random.uniform(min_value, max_value))\n",
    "\n",
    "    def predict(self, inputs):\n",
    "        sop = 0\n",
    "        self.inputs = inputs\n",
    "        for i in range(0, self.nbInputs):\n",
    "            sop += inputs[i] * self.weights[i]\n",
    "        self.act = self.activation(sop)\n",
    "        return self.act\n",
    "\n",
    "    def activation(self, x):\n",
    "        if x >= 0:\n",
    "            return 1\n",
    "        else:\n",
    "            return 0\n",
    "\n",
    "    def calculErr(self, expected):\n",
    "        self.err = expected - self.act\n",
    "        return self.err\n",
    "\n",
    "    def updateWeights(self, lr):\n",
    "        for i in range(0, self.nbInputs):\n",
    "            self.weights[i] += (self.err * lr) * self.inputs[i]\n",
    "\n",
    "    def trainUnit(self, example, expected, lr, verbose=False):\n",
    "        pred = self.predict(example)\n",
    "        err = self.calculErr(expected)\n",
    "        self.updateWeights(lr=lr)\n",
    "        if verbose:\n",
    "            print(\n",
    "                f\"\\n example: {example} expected: {expected} prediction: {pred} error: {err} weights: {self.weights}\"\n",
    "            )\n",
    "        return err\n",
    "\n",
    "    def train(self, dataset, epoch, lr=0.1, verbose=False):\n",
    "        errors = []\n",
    "        for i in range(0, epoch):\n",
    "            currentEpochError = 0\n",
    "            for data in dataset:\n",
    "                currentError = abs(\n",
    "                    self.trainUnit(data[0], data[1][0], lr=lr, verbose=verbose)\n",
    "                )\n",
    "                currentEpochError += currentError\n",
    "        avg = currentEpochError / len(dataset)\n",
    "        errors.append(avg)\n",
    "\n",
    "        return errors\n",
    "\n",
    "# perceptron = Perceptron(3)\n",
    "# dataset = [\n",
    "#     ([21, 10, 5], [0]),\n",
    "#     ([25, 20, 15], [0]),\n",
    "#     ([20, 2, 9], [0]),\n",
    "#     ([30, 10, 16], [0]),\n",
    "#     ([1, 24, 10], [1]),\n",
    "#     ([10, 60, 20], [1]),\n",
    "#     ([19, 80, 30], [1]),\n",
    "#     ([20, 90, 10], [1]),\n",
    "# ]\n",
    "# perceptron.train(dataset, epoch=2, lr=0.1, verbose=True)\n",
    "# perceptron.trainUnit(ex1, dataset[0][1][0], verbose=True)\n",
    "# print('weights at start of epoch',perceptron.weights)\n",
    "# ex1 = dataset[0][0]\n",
    "# output = perceptron.predict(ex1)\n",
    "# print('prediction', output)\n",
    "# perceptron.calculErr(dataset[0][1][0])\n",
    "# print('err', perceptron.err)\n",
    "# perceptron.updateWeights()\n",
    "# print('weights after update (at the end of the epoch)', perceptron.weights)"
   ]
  },
  {
   "cell_type": "code",
   "execution_count": 162,
   "metadata": {},
   "outputs": [
    {
     "name": "stdout",
     "output_type": "stream",
     "text": [
      "After Training\n",
      "[-0.13445109984217737, 0.33154762541600336, -0.2345021518030284]\n",
      "[0.0]\n"
     ]
    }
   ],
   "source": [
    "perceptron = Perceptron(3)\n",
    "dataset = [\n",
    "    ([21, 10, 5], [0]),\n",
    "    ([25, 20, 15], [0]),\n",
    "    ([20, 2, 9], [0]),\n",
    "    ([30, 10, 16], [0]),\n",
    "    ([1, 24, 10], [1]),\n",
    "    ([10, 60, 20], [1]),\n",
    "    ([19, 80, 30], [1]),\n",
    "    ([20, 90, 10], [1]),\n",
    "]\n",
    "# perceptron.train(dataset, epoch=2, lr=0.1, verbose=True)\n",
    "errors = perceptron.train(dataset, epoch=30, lr=0.01, verbose=False)\n",
    "print(\"After Training\")\n",
    "print(perceptron.weights)\n",
    "print(errors)"
   ]
  },
  {
   "cell_type": "code",
   "execution_count": 163,
   "metadata": {},
   "outputs": [],
   "source": [
    "def minmax_normalization(vector):\n",
    "    if len(vector) == 0:\n",
    "        return \"vector is empty\"\n",
    "    min_value = min(vector)\n",
    "    max_value = max(vector)\n",
    "    normalized_vector = [(x - min_value) / (max_value - min_value) for x in vector]\n",
    "    return normalized_vector"
   ]
  },
  {
   "cell_type": "code",
   "execution_count": 164,
   "metadata": {},
   "outputs": [
    {
     "name": "stdout",
     "output_type": "stream",
     "text": [
      "[([1.0, 0.3125, 0.0], [0]), ([1.0, 0.5, 0.0], [0]), ([1.0, 0.0, 0.3888888888888889], [0]), ([1.0, 0.0, 0.3], [0]), ([0.0, 1.0, 0.391304347826087], [1]), ([0.0, 1.0, 0.2], [1]), ([0.0, 1.0, 0.18032786885245902], [1]), ([0.125, 1.0, 0.0], [1])]\n"
     ]
    }
   ],
   "source": [
    "dataset = [\n",
    "    ([21, 10, 5], [0]),\n",
    "    ([25, 20, 15], [0]),\n",
    "    ([20, 2, 9], [0]),\n",
    "    ([30, 10, 16], [0]),\n",
    "    ([1, 24, 10], [1]),\n",
    "    ([10, 60, 20], [1]),\n",
    "    ([19, 80, 30], [1]),\n",
    "    ([20, 90, 10], [1]),\n",
    "]\n",
    "for i in range(0, len(dataset)):\n",
    "    dataset[i] = (minmax_normalization(dataset[i][0]), dataset[i][1])\n",
    "print(dataset)"
   ]
  },
  {
   "cell_type": "code",
   "execution_count": 165,
   "metadata": {},
   "outputs": [
    {
     "name": "stdout",
     "output_type": "stream",
     "text": [
      "\n",
      " example: [1.0, 0.3125, 0.0] expected: 0 prediction: 0 error: 0 weights: [-0.13445109984217737, 0.33154762541600336, -0.2345021518030284]\n",
      "\n",
      " example: [1.0, 0.5, 0.0] expected: 0 prediction: 1 error: -1 weights: [-0.14445109984217738, 0.32654762541600335, -0.2345021518030284]\n",
      "\n",
      " example: [1.0, 0.0, 0.3888888888888889] expected: 0 prediction: 0 error: 0 weights: [-0.14445109984217738, 0.32654762541600335, -0.2345021518030284]\n",
      "\n",
      " example: [1.0, 0.0, 0.3] expected: 0 prediction: 0 error: 0 weights: [-0.14445109984217738, 0.32654762541600335, -0.2345021518030284]\n",
      "\n",
      " example: [0.0, 1.0, 0.391304347826087] expected: 1 prediction: 1 error: 0 weights: [-0.14445109984217738, 0.32654762541600335, -0.2345021518030284]\n",
      "\n",
      " example: [0.0, 1.0, 0.2] expected: 1 prediction: 1 error: 0 weights: [-0.14445109984217738, 0.32654762541600335, -0.2345021518030284]\n",
      "\n",
      " example: [0.0, 1.0, 0.18032786885245902] expected: 1 prediction: 1 error: 0 weights: [-0.14445109984217738, 0.32654762541600335, -0.2345021518030284]\n",
      "\n",
      " example: [0.125, 1.0, 0.0] expected: 1 prediction: 1 error: 0 weights: [-0.14445109984217738, 0.32654762541600335, -0.2345021518030284]\n",
      "\n",
      " example: [1.0, 0.3125, 0.0] expected: 0 prediction: 0 error: 0 weights: [-0.14445109984217738, 0.32654762541600335, -0.2345021518030284]\n",
      "\n",
      " example: [1.0, 0.5, 0.0] expected: 0 prediction: 1 error: -1 weights: [-0.1544510998421774, 0.32154762541600335, -0.2345021518030284]\n",
      "\n",
      " example: [1.0, 0.0, 0.3888888888888889] expected: 0 prediction: 0 error: 0 weights: [-0.1544510998421774, 0.32154762541600335, -0.2345021518030284]\n",
      "\n",
      " example: [1.0, 0.0, 0.3] expected: 0 prediction: 0 error: 0 weights: [-0.1544510998421774, 0.32154762541600335, -0.2345021518030284]\n",
      "\n",
      " example: [0.0, 1.0, 0.391304347826087] expected: 1 prediction: 1 error: 0 weights: [-0.1544510998421774, 0.32154762541600335, -0.2345021518030284]\n",
      "\n",
      " example: [0.0, 1.0, 0.2] expected: 1 prediction: 1 error: 0 weights: [-0.1544510998421774, 0.32154762541600335, -0.2345021518030284]\n",
      "\n",
      " example: [0.0, 1.0, 0.18032786885245902] expected: 1 prediction: 1 error: 0 weights: [-0.1544510998421774, 0.32154762541600335, -0.2345021518030284]\n",
      "\n",
      " example: [0.125, 1.0, 0.0] expected: 1 prediction: 1 error: 0 weights: [-0.1544510998421774, 0.32154762541600335, -0.2345021518030284]\n"
     ]
    },
    {
     "data": {
      "text/plain": [
       "[0.125]"
      ]
     },
     "execution_count": 165,
     "metadata": {},
     "output_type": "execute_result"
    }
   ],
   "source": [
    "perceptron.train(dataset, epoch=2, lr=0.01, verbose=True)"
   ]
  },
  {
   "cell_type": "code",
   "execution_count": 166,
   "metadata": {},
   "outputs": [
    {
     "name": "stdout",
     "output_type": "stream",
     "text": [
      "prediction: 0 - expected: 0\n",
      "prediction: 1 - expected: 0\n",
      "prediction: 0 - expected: 0\n",
      "prediction: 0 - expected: 0\n",
      "prediction: 1 - expected: 1\n",
      "prediction: 1 - expected: 1\n",
      "prediction: 1 - expected: 1\n",
      "prediction: 1 - expected: 1\n"
     ]
    }
   ],
   "source": [
    "for data in dataset: \n",
    "    pred = perceptron.predict(data[0])\n",
    "    expected = data[1][0]\n",
    "    print(f\"prediction: {pred} - expected: {expected}\")"
   ]
  }
 ],
 "metadata": {
  "kernelspec": {
   "display_name": "ML2",
   "language": "python",
   "name": "python3"
  },
  "language_info": {
   "codemirror_mode": {
    "name": "ipython",
    "version": 3
   },
   "file_extension": ".py",
   "mimetype": "text/x-python",
   "name": "python",
   "nbconvert_exporter": "python",
   "pygments_lexer": "ipython3",
   "version": "3.10.10"
  },
  "orig_nbformat": 4
 },
 "nbformat": 4,
 "nbformat_minor": 2
}
